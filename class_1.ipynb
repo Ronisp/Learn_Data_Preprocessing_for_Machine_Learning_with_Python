{
  "nbformat": 4,
  "nbformat_minor": 0,
  "metadata": {
    "colab": {
      "name": "class 1.ipynb",
      "provenance": [],
      "collapsed_sections": [],
      "mount_file_id": "1hCRwfO1CIzUmRxVfJByrPZXwonaTG-LM",
      "authorship_tag": "ABX9TyPfF9pWkZEWkoNMUoxm7HO5",
      "include_colab_link": true
    },
    "kernelspec": {
      "name": "python3",
      "display_name": "Python 3"
    },
    "language_info": {
      "name": "python"
    }
  },
  "cells": [
    {
      "cell_type": "markdown",
      "metadata": {
        "id": "view-in-github",
        "colab_type": "text"
      },
      "source": [
        "<a href=\"https://colab.research.google.com/github/Ronisp/Learn_Data_Preprocessing_for_Machine_Learning_with_Python/blob/main/class_1.ipynb\" target=\"_parent\"><img src=\"https://colab.research.google.com/assets/colab-badge.svg\" alt=\"Open In Colab\"/></a>"
      ]
    },
    {
      "cell_type": "code",
      "source": [
        "import pandas as pd\n"
      ],
      "metadata": {
        "id": "m9J2JrbAczm-"
      },
      "execution_count": 11,
      "outputs": []
    },
    {
      "cell_type": "code",
      "source": [
        "# method 1\n",
        "# reading a csv file \n",
        "df = pd.read_csv(\"batsman_most_runs_ODI.csv\")\n",
        "\n",
        "display(df.head())\n"
      ],
      "metadata": {
        "colab": {
          "base_uri": "https://localhost:8080/",
          "height": 206
        },
        "id": "C_7K9rQheFIy",
        "outputId": "47696f7d-9b83-4148-86c7-b85a67f947fb"
      },
      "execution_count": 12,
      "outputs": [
        {
          "output_type": "display_data",
          "data": {
            "text/plain": [
              "                        Player       Span  Mat  Inns  NO   Runs    HS    Ave  \\\n",
              "0         SR Tendulkar (INDIA)  1989-2012  463   452  41  18426  200*  44.83   \n",
              "1  KC Sangakkara (Asia/ICC/SL)  2000-2015  404   380  41  14234   169  41.98   \n",
              "2         RT Ponting (AUS/ICC)  1995-2012  375   365  39  13704   164  42.03   \n",
              "3      ST Jayasuriya (Asia/SL)  1989-2011  445   433  18  13430   189  32.36   \n",
              "4   DPMD Jayawardene (Asia/SL)  1998-2015  448   418  39  12650   144  33.37   \n",
              "\n",
              "      BF     SR  100  50   0    4s   6s  \n",
              "0  21368  86.23   49  96  20  2016  195  \n",
              "1  18048  78.86   25  93  15  1385   88  \n",
              "2  17046  80.39   30  82  20  1231  162  \n",
              "3  14725  91.20   28  68  34  1500  270  \n",
              "4  16020  78.96   19  77  28  1119   76  "
            ],
            "text/html": [
              "\n",
              "  <div id=\"df-343ae993-23a4-499c-9e56-9a59a45784aa\">\n",
              "    <div class=\"colab-df-container\">\n",
              "      <div>\n",
              "<style scoped>\n",
              "    .dataframe tbody tr th:only-of-type {\n",
              "        vertical-align: middle;\n",
              "    }\n",
              "\n",
              "    .dataframe tbody tr th {\n",
              "        vertical-align: top;\n",
              "    }\n",
              "\n",
              "    .dataframe thead th {\n",
              "        text-align: right;\n",
              "    }\n",
              "</style>\n",
              "<table border=\"1\" class=\"dataframe\">\n",
              "  <thead>\n",
              "    <tr style=\"text-align: right;\">\n",
              "      <th></th>\n",
              "      <th>Player</th>\n",
              "      <th>Span</th>\n",
              "      <th>Mat</th>\n",
              "      <th>Inns</th>\n",
              "      <th>NO</th>\n",
              "      <th>Runs</th>\n",
              "      <th>HS</th>\n",
              "      <th>Ave</th>\n",
              "      <th>BF</th>\n",
              "      <th>SR</th>\n",
              "      <th>100</th>\n",
              "      <th>50</th>\n",
              "      <th>0</th>\n",
              "      <th>4s</th>\n",
              "      <th>6s</th>\n",
              "    </tr>\n",
              "  </thead>\n",
              "  <tbody>\n",
              "    <tr>\n",
              "      <th>0</th>\n",
              "      <td>SR Tendulkar (INDIA)</td>\n",
              "      <td>1989-2012</td>\n",
              "      <td>463</td>\n",
              "      <td>452</td>\n",
              "      <td>41</td>\n",
              "      <td>18426</td>\n",
              "      <td>200*</td>\n",
              "      <td>44.83</td>\n",
              "      <td>21368</td>\n",
              "      <td>86.23</td>\n",
              "      <td>49</td>\n",
              "      <td>96</td>\n",
              "      <td>20</td>\n",
              "      <td>2016</td>\n",
              "      <td>195</td>\n",
              "    </tr>\n",
              "    <tr>\n",
              "      <th>1</th>\n",
              "      <td>KC Sangakkara (Asia/ICC/SL)</td>\n",
              "      <td>2000-2015</td>\n",
              "      <td>404</td>\n",
              "      <td>380</td>\n",
              "      <td>41</td>\n",
              "      <td>14234</td>\n",
              "      <td>169</td>\n",
              "      <td>41.98</td>\n",
              "      <td>18048</td>\n",
              "      <td>78.86</td>\n",
              "      <td>25</td>\n",
              "      <td>93</td>\n",
              "      <td>15</td>\n",
              "      <td>1385</td>\n",
              "      <td>88</td>\n",
              "    </tr>\n",
              "    <tr>\n",
              "      <th>2</th>\n",
              "      <td>RT Ponting (AUS/ICC)</td>\n",
              "      <td>1995-2012</td>\n",
              "      <td>375</td>\n",
              "      <td>365</td>\n",
              "      <td>39</td>\n",
              "      <td>13704</td>\n",
              "      <td>164</td>\n",
              "      <td>42.03</td>\n",
              "      <td>17046</td>\n",
              "      <td>80.39</td>\n",
              "      <td>30</td>\n",
              "      <td>82</td>\n",
              "      <td>20</td>\n",
              "      <td>1231</td>\n",
              "      <td>162</td>\n",
              "    </tr>\n",
              "    <tr>\n",
              "      <th>3</th>\n",
              "      <td>ST Jayasuriya (Asia/SL)</td>\n",
              "      <td>1989-2011</td>\n",
              "      <td>445</td>\n",
              "      <td>433</td>\n",
              "      <td>18</td>\n",
              "      <td>13430</td>\n",
              "      <td>189</td>\n",
              "      <td>32.36</td>\n",
              "      <td>14725</td>\n",
              "      <td>91.20</td>\n",
              "      <td>28</td>\n",
              "      <td>68</td>\n",
              "      <td>34</td>\n",
              "      <td>1500</td>\n",
              "      <td>270</td>\n",
              "    </tr>\n",
              "    <tr>\n",
              "      <th>4</th>\n",
              "      <td>DPMD Jayawardene (Asia/SL)</td>\n",
              "      <td>1998-2015</td>\n",
              "      <td>448</td>\n",
              "      <td>418</td>\n",
              "      <td>39</td>\n",
              "      <td>12650</td>\n",
              "      <td>144</td>\n",
              "      <td>33.37</td>\n",
              "      <td>16020</td>\n",
              "      <td>78.96</td>\n",
              "      <td>19</td>\n",
              "      <td>77</td>\n",
              "      <td>28</td>\n",
              "      <td>1119</td>\n",
              "      <td>76</td>\n",
              "    </tr>\n",
              "  </tbody>\n",
              "</table>\n",
              "</div>\n",
              "      <button class=\"colab-df-convert\" onclick=\"convertToInteractive('df-343ae993-23a4-499c-9e56-9a59a45784aa')\"\n",
              "              title=\"Convert this dataframe to an interactive table.\"\n",
              "              style=\"display:none;\">\n",
              "        \n",
              "  <svg xmlns=\"http://www.w3.org/2000/svg\" height=\"24px\"viewBox=\"0 0 24 24\"\n",
              "       width=\"24px\">\n",
              "    <path d=\"M0 0h24v24H0V0z\" fill=\"none\"/>\n",
              "    <path d=\"M18.56 5.44l.94 2.06.94-2.06 2.06-.94-2.06-.94-.94-2.06-.94 2.06-2.06.94zm-11 1L8.5 8.5l.94-2.06 2.06-.94-2.06-.94L8.5 2.5l-.94 2.06-2.06.94zm10 10l.94 2.06.94-2.06 2.06-.94-2.06-.94-.94-2.06-.94 2.06-2.06.94z\"/><path d=\"M17.41 7.96l-1.37-1.37c-.4-.4-.92-.59-1.43-.59-.52 0-1.04.2-1.43.59L10.3 9.45l-7.72 7.72c-.78.78-.78 2.05 0 2.83L4 21.41c.39.39.9.59 1.41.59.51 0 1.02-.2 1.41-.59l7.78-7.78 2.81-2.81c.8-.78.8-2.07 0-2.86zM5.41 20L4 18.59l7.72-7.72 1.47 1.35L5.41 20z\"/>\n",
              "  </svg>\n",
              "      </button>\n",
              "      \n",
              "  <style>\n",
              "    .colab-df-container {\n",
              "      display:flex;\n",
              "      flex-wrap:wrap;\n",
              "      gap: 12px;\n",
              "    }\n",
              "\n",
              "    .colab-df-convert {\n",
              "      background-color: #E8F0FE;\n",
              "      border: none;\n",
              "      border-radius: 50%;\n",
              "      cursor: pointer;\n",
              "      display: none;\n",
              "      fill: #1967D2;\n",
              "      height: 32px;\n",
              "      padding: 0 0 0 0;\n",
              "      width: 32px;\n",
              "    }\n",
              "\n",
              "    .colab-df-convert:hover {\n",
              "      background-color: #E2EBFA;\n",
              "      box-shadow: 0px 1px 2px rgba(60, 64, 67, 0.3), 0px 1px 3px 1px rgba(60, 64, 67, 0.15);\n",
              "      fill: #174EA6;\n",
              "    }\n",
              "\n",
              "    [theme=dark] .colab-df-convert {\n",
              "      background-color: #3B4455;\n",
              "      fill: #D2E3FC;\n",
              "    }\n",
              "\n",
              "    [theme=dark] .colab-df-convert:hover {\n",
              "      background-color: #434B5C;\n",
              "      box-shadow: 0px 1px 3px 1px rgba(0, 0, 0, 0.15);\n",
              "      filter: drop-shadow(0px 1px 2px rgba(0, 0, 0, 0.3));\n",
              "      fill: #FFFFFF;\n",
              "    }\n",
              "  </style>\n",
              "\n",
              "      <script>\n",
              "        const buttonEl =\n",
              "          document.querySelector('#df-343ae993-23a4-499c-9e56-9a59a45784aa button.colab-df-convert');\n",
              "        buttonEl.style.display =\n",
              "          google.colab.kernel.accessAllowed ? 'block' : 'none';\n",
              "\n",
              "        async function convertToInteractive(key) {\n",
              "          const element = document.querySelector('#df-343ae993-23a4-499c-9e56-9a59a45784aa');\n",
              "          const dataTable =\n",
              "            await google.colab.kernel.invokeFunction('convertToInteractive',\n",
              "                                                     [key], {});\n",
              "          if (!dataTable) return;\n",
              "\n",
              "          const docLinkHtml = 'Like what you see? Visit the ' +\n",
              "            '<a target=\"_blank\" href=https://colab.research.google.com/notebooks/data_table.ipynb>data table notebook</a>'\n",
              "            + ' to learn more about interactive tables.';\n",
              "          element.innerHTML = '';\n",
              "          dataTable['output_type'] = 'display_data';\n",
              "          await google.colab.output.renderOutput(dataTable, element);\n",
              "          const docLink = document.createElement('div');\n",
              "          docLink.innerHTML = docLinkHtml;\n",
              "          element.appendChild(docLink);\n",
              "        }\n",
              "      </script>\n",
              "    </div>\n",
              "  </div>\n",
              "  "
            ]
          },
          "metadata": {}
        }
      ]
    },
    {
      "cell_type": "code",
      "source": [
        "print(df.tail())\n"
      ],
      "metadata": {
        "colab": {
          "base_uri": "https://localhost:8080/"
        },
        "id": "-52sgvnhh97p",
        "outputId": "a8d63074-5b8c-4635-ae2b-d18f0ae7b0ac"
      },
      "execution_count": 9,
      "outputs": [
        {
          "output_type": "stream",
          "name": "stdout",
          "text": [
            "                  Player       Span  Mat  Inns  Balls  Runs  Wkts    Ave  \\\n",
            "72  SR Tendulkar (INDIA)  1989-2012  463   270   8054  6850   154  44.48   \n",
            "73       BAW Mendis (SL)  2008-2015   87    84   4154  3324   152  21.86   \n",
            "74     Rashid Khan (AFG)  2015-2022   80    76   4074  2821   151  18.68   \n",
            "75     UDU Chandana (SL)  1994-2007  147   136   6142  4818   151  31.90   \n",
            "76      R Ashwin (INDIA)  2010-2022  113   111   6141  5058   151  33.49   \n",
            "\n",
            "    Econ    SR  4  5  \n",
            "72  5.10  52.2  4  2  \n",
            "73  4.80  27.3  7  3  \n",
            "74  4.15  26.9  5  4  \n",
            "75  4.70  40.6  4  1  \n",
            "76  4.94  40.6  1  0  \n"
          ]
        }
      ]
    },
    {
      "cell_type": "code",
      "source": [
        "print(df.shape)"
      ],
      "metadata": {
        "colab": {
          "base_uri": "https://localhost:8080/"
        },
        "id": "HJCPzf9aiDtu",
        "outputId": "b8dcc091-d428-4a16-9a46-d0b0f0ead5f5"
      },
      "execution_count": 13,
      "outputs": [
        {
          "output_type": "stream",
          "name": "stdout",
          "text": [
            "(92, 15)\n"
          ]
        }
      ]
    }
  ]
}